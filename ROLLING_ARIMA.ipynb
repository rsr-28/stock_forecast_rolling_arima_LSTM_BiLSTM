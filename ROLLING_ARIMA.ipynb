{
  "nbformat": 4,
  "nbformat_minor": 0,
  "metadata": {
    "colab": {
      "provenance": [],
      "authorship_tag": "ABX9TyO5U2H/T5fXPzbKnlPwCYlk"
    },
    "kernelspec": {
      "name": "python3",
      "display_name": "Python 3"
    },
    "language_info": {
      "name": "python"
    }
  },
  "cells": [
    {
      "cell_type": "code",
      "source": [
        "import pandas as pd\n",
        "\n",
        "# Assuming 'gspc.csv' is in the current working directory or you provide the correct path\n",
        "df = pd.read_csv('Nikkei_225.csv')\n",
        "\n",
        "# You can now work with the DataFrame 'df'\n",
        "print(df.head())  # Print the first few rows of the DataFrame\n"
      ],
      "metadata": {
        "colab": {
          "base_uri": "https://localhost:8080/"
        },
        "id": "CxPRQCm0e9Zo",
        "outputId": "3ce1eec3-72a1-45bb-da07-b7e020529741"
      },
      "execution_count": 38,
      "outputs": [
        {
          "output_type": "stream",
          "name": "stdout",
          "text": [
            "         Date        Close         High          Low         Open  Volume\n",
            "0  01-01-1985  11992.30957  11992.30957  11543.00000  11543.00000       0\n",
            "1  01-02-1985  12321.91992  12321.91992  11823.42969  11946.95996       0\n",
            "2  01-03-1985  12580.75977  12604.01953  12263.84961  12412.13965       0\n",
            "3  01-04-1985  12426.29004  12683.25977  12052.82031  12677.15039       0\n",
            "4  01-05-1985  12758.45996  12790.26953  12358.03027  12456.65039       0\n"
          ]
        }
      ]
    },
    {
      "cell_type": "code",
      "source": [
        "# Calculate the index for splitting the data\n",
        "split_index = int(len(df) * 0.7)\n",
        "\n",
        "# Split the data into training and testing sets\n",
        "train_data = df['Close'][:split_index]\n",
        "test_data = df['Close'][split_index:]\n",
        "\n",
        "print(f\"Training data length: {len(train_data)}\")\n",
        "print(f\"Testing data length: {len(test_data)}\")\n"
      ],
      "metadata": {
        "colab": {
          "base_uri": "https://localhost:8080/"
        },
        "id": "oaptO2OafBTN",
        "outputId": "521856ed-f1dc-4afa-977e-8852dc472ba4"
      },
      "execution_count": 39,
      "outputs": [
        {
          "output_type": "stream",
          "name": "stdout",
          "text": [
            "Training data length: 282\n",
            "Testing data length: 122\n"
          ]
        }
      ]
    },
    {
      "cell_type": "code",
      "source": [
        "\n",
        "\n",
        "from statsmodels.tsa.arima.model import ARIMA\n",
        "import warnings\n",
        "\n",
        "\n",
        "model = ARIMA(train_data, order=(5, 1, 0 ))  # Example order (p, d, q)\n",
        "model_fit = model.fit()\n",
        "\n",
        "# # Print model summary (optional)\n",
        "print(model_fit.summary())\n",
        "\n",
        "# # Make predictions on the training data\n",
        "predictions = model_fit.predict(start=0, end=len(train_data)-1)\n",
        "\n"
      ],
      "metadata": {
        "colab": {
          "base_uri": "https://localhost:8080/"
        },
        "id": "Nmq0ZSPrfWVp",
        "outputId": "b59582fd-0380-4a2c-ffff-baba7cd6e910"
      },
      "execution_count": 40,
      "outputs": [
        {
          "output_type": "stream",
          "name": "stdout",
          "text": [
            "                               SARIMAX Results                                \n",
            "==============================================================================\n",
            "Dep. Variable:                  Close   No. Observations:                  282\n",
            "Model:                 ARIMA(5, 1, 0)   Log Likelihood               -2382.031\n",
            "Date:                Sat, 22 Mar 2025   AIC                           4776.063\n",
            "Time:                        16:03:18   BIC                           4797.893\n",
            "Sample:                             0   HQIC                          4784.818\n",
            "                                - 282                                         \n",
            "Covariance Type:                  opg                                         \n",
            "==============================================================================\n",
            "                 coef    std err          z      P>|z|      [0.025      0.975]\n",
            "------------------------------------------------------------------------------\n",
            "ar.L1          0.0384      0.042      0.908      0.364      -0.045       0.121\n",
            "ar.L2          0.0229      0.042      0.547      0.584      -0.059       0.105\n",
            "ar.L3         -0.0365      0.046     -0.796      0.426      -0.127       0.053\n",
            "ar.L4         -0.0449      0.052     -0.861      0.389      -0.147       0.057\n",
            "ar.L5          0.1587      0.040      3.932      0.000       0.080       0.238\n",
            "sigma2      1.369e+06    8.9e+04     15.383      0.000    1.19e+06    1.54e+06\n",
            "===================================================================================\n",
            "Ljung-Box (L1) (Q):                   0.03   Jarque-Bera (JB):                60.84\n",
            "Prob(Q):                              0.87   Prob(JB):                         0.00\n",
            "Heteroskedasticity (H):               0.17   Skew:                            -0.39\n",
            "Prob(H) (two-sided):                  0.00   Kurtosis:                         5.14\n",
            "===================================================================================\n",
            "\n",
            "Warnings:\n",
            "[1] Covariance matrix calculated using the outer product of gradients (complex-step).\n"
          ]
        }
      ]
    },
    {
      "cell_type": "code",
      "source": [
        "\n",
        "\n",
        "import numpy as np\n",
        "# # Calculate RMSE\n",
        "rmse = np.sqrt(np.mean((predictions - train_data)**2))\n",
        "print(f\"RMSE: {rmse}\")\n"
      ],
      "metadata": {
        "colab": {
          "base_uri": "https://localhost:8080/"
        },
        "id": "i5-ThfF3fbr_",
        "outputId": "0b89660b-1e26-4297-c03a-1ee4e7a6dfe3"
      },
      "execution_count": 41,
      "outputs": [
        {
          "output_type": "stream",
          "name": "stdout",
          "text": [
            "RMSE: 1362.0529761332705\n"
          ]
        }
      ]
    },
    {
      "cell_type": "code",
      "source": [
        "from statsmodels.tsa.arima.model import ARIMA\n",
        "import numpy as np\n",
        "\n",
        "history = np.array(train_data).copy()  # Ensure a NumPy array\n",
        "test_data = np.array(test_data)\n",
        "predictions = []\n",
        "\n",
        "for i in range(len(test_data)):\n",
        "    model = ARIMA(history, order=(5, 1, 0))\n",
        "    model_fit = model.fit()\n",
        "    hat = model_fit.forecast(steps=1)[0] # Extract scalar value\n",
        "    # print(hat)\n",
        "    predictions.append(hat)\n",
        "\n",
        "    observed = test_data[i]\n",
        "    history = np.concatenate((history, np.array([observed])))  # Append new value\n",
        "\n",
        "# Convert predictions list to NumPy array before computing RMSE\n",
        "predictions = np.array(predictions)\n",
        "rmse = np.sqrt(np.mean((predictions - test_data) ** 2))\n",
        "print(\"RMSE:\", rmse)\n",
        "\n",
        "\n"
      ],
      "metadata": {
        "colab": {
          "base_uri": "https://localhost:8080/"
        },
        "id": "_OeoyTYXlGrP",
        "outputId": "a81fec7f-49e3-4c97-b027-231adf440b6f"
      },
      "execution_count": 42,
      "outputs": [
        {
          "output_type": "stream",
          "name": "stdout",
          "text": [
            "RMSE: 750.2056154842833\n"
          ]
        }
      ]
    }
  ]
}